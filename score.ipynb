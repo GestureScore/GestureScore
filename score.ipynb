{
 "cells": [
  {
   "cell_type": "code",
   "execution_count": 13,
   "id": "initial_id",
   "metadata": {
    "ExecuteTime": {
     "end_time": "2024-11-23T09:04:56.097858Z",
     "start_time": "2024-11-23T09:04:55.901483Z"
    },
    "collapsed": true
   },
   "outputs": [],
   "source": [
    "import os\n",
    "import numpy as np"
   ]
  },
  {
   "cell_type": "code",
   "execution_count": 7,
   "id": "4b974eca1398ad58",
   "metadata": {
    "ExecuteTime": {
     "end_time": "2024-11-23T09:03:03.871636Z",
     "start_time": "2024-11-23T09:03:03.864179Z"
    }
   },
   "outputs": [
    {
     "name": "stdout",
     "output_type": "stream",
     "text": [
      "USO\n",
      "USN\n",
      "UBT\n",
      "UBA\n",
      "USP\n",
      "USK\n",
      "USL\n",
      "USQ\n",
      "USM\n",
      "USJ\n",
      "UNA\n"
     ]
    }
   ],
   "source": [
    "folders = os.listdir(\"./data/upperbody\")\n",
    "\n",
    "for folder in folders:\n",
    "    if folder != '.DS_Store':\n",
    "        print(folder)\n",
    "        \n",
    "        \n",
    "USO_Path = os.path.join(\"./data/upperbody\", folders[0])"
   ]
  },
  {
   "cell_type": "code",
   "execution_count": 20,
   "id": "83b469ffc167eff2",
   "metadata": {
    "ExecuteTime": {
     "end_time": "2024-11-23T09:12:05.773190Z",
     "start_time": "2024-11-23T09:12:05.766065Z"
    }
   },
   "outputs": [
    {
     "data": {
      "text/plain": [
       "['./data/upperbody/USO/tst_2022_v1_022.npy',\n",
       " './data/upperbody/USO/tst_2022_v1_036.npy',\n",
       " './data/upperbody/USO/tst_2022_v1_037.npy',\n",
       " './data/upperbody/USO/tst_2022_v1_023.npy',\n",
       " './data/upperbody/USO/tst_2022_v1_009.npy',\n",
       " './data/upperbody/USO/tst_2022_v1_035.npy',\n",
       " './data/upperbody/USO/tst_2022_v1_021.npy',\n",
       " './data/upperbody/USO/tst_2022_v1_020.npy',\n",
       " './data/upperbody/USO/tst_2022_v1_034.npy',\n",
       " './data/upperbody/USO/tst_2022_v1_008.npy',\n",
       " './data/upperbody/USO/tst_2022_v1_030.npy',\n",
       " './data/upperbody/USO/tst_2022_v1_024.npy',\n",
       " './data/upperbody/USO/tst_2022_v1_018.npy',\n",
       " './data/upperbody/USO/tst_2022_v1_019.npy',\n",
       " './data/upperbody/USO/tst_2022_v1_025.npy',\n",
       " './data/upperbody/USO/tst_2022_v1_031.npy',\n",
       " './data/upperbody/USO/tst_2022_v1_027.npy',\n",
       " './data/upperbody/USO/tst_2022_v1_033.npy',\n",
       " './data/upperbody/USO/tst_2022_v1_032.npy',\n",
       " './data/upperbody/USO/tst_2022_v1_026.npy',\n",
       " './data/upperbody/USO/tst_2022_v1_003.npy',\n",
       " './data/upperbody/USO/tst_2022_v1_017.npy',\n",
       " './data/upperbody/USO/tst_2022_v1_016.npy',\n",
       " './data/upperbody/USO/tst_2022_v1_002.npy',\n",
       " './data/upperbody/USO/tst_2022_v1_028.npy',\n",
       " './data/upperbody/USO/tst_2022_v1_014.npy',\n",
       " './data/upperbody/USO/tst_2022_v1_000.npy',\n",
       " './data/upperbody/USO/tst_2022_v1_001.npy',\n",
       " './data/upperbody/USO/tst_2022_v1_015.npy',\n",
       " './data/upperbody/USO/tst_2022_v1_029.npy',\n",
       " './data/upperbody/USO/tst_2022_v1_011.npy',\n",
       " './data/upperbody/USO/tst_2022_v1_005.npy',\n",
       " './data/upperbody/USO/tst_2022_v1_039.npy',\n",
       " './data/upperbody/USO/tst_2022_v1_038.npy',\n",
       " './data/upperbody/USO/tst_2022_v1_004.npy',\n",
       " './data/upperbody/USO/tst_2022_v1_010.npy',\n",
       " './data/upperbody/USO/tst_2022_v1_006.npy',\n",
       " './data/upperbody/USO/tst_2022_v1_012.npy',\n",
       " './data/upperbody/USO/tst_2022_v1_013.npy',\n",
       " './data/upperbody/USO/tst_2022_v1_007.npy']"
      ]
     },
     "execution_count": 20,
     "metadata": {},
     "output_type": "execute_result"
    }
   ],
   "source": [
    "npy_files = [os.path.join(USO_Path, npy) for npy in os.listdir(USO_Path)]\n",
    "npy_files"
   ]
  },
  {
   "cell_type": "code",
   "execution_count": 21,
   "id": "ceb0c5df448a8e8f",
   "metadata": {
    "ExecuteTime": {
     "end_time": "2024-11-23T09:12:07.277746Z",
     "start_time": "2024-11-23T09:12:07.273466Z"
    }
   },
   "outputs": [],
   "source": [
    "npy = np.load(npy_files[0])"
   ]
  },
  {
   "cell_type": "code",
   "execution_count": 22,
   "id": "96998733269fc2ee",
   "metadata": {
    "ExecuteTime": {
     "end_time": "2024-11-23T09:12:08.006794Z",
     "start_time": "2024-11-23T09:12:07.998270Z"
    }
   },
   "outputs": [
    {
     "data": {
      "text/plain": [
       "(1949, 162)"
      ]
     },
     "execution_count": 22,
     "metadata": {},
     "output_type": "execute_result"
    }
   ],
   "source": [
    "npy.shape"
   ]
  },
  {
   "cell_type": "code",
   "execution_count": 19,
   "id": "a09ac9cff01e2081",
   "metadata": {
    "ExecuteTime": {
     "end_time": "2024-11-23T09:07:40.756176Z",
     "start_time": "2024-11-23T09:07:40.753450Z"
    }
   },
   "outputs": [],
   "source": []
  },
  {
   "cell_type": "code",
   "execution_count": 19,
   "id": "711862b18bb98d49",
   "metadata": {
    "ExecuteTime": {
     "end_time": "2024-11-23T09:07:40.896865Z",
     "start_time": "2024-11-23T09:07:40.895586Z"
    }
   },
   "outputs": [],
   "source": []
  },
  {
   "cell_type": "code",
   "execution_count": 19,
   "id": "ec2cd14e93da9d23",
   "metadata": {
    "ExecuteTime": {
     "end_time": "2024-11-23T09:07:41.017780Z",
     "start_time": "2024-11-23T09:07:41.016303Z"
    }
   },
   "outputs": [],
   "source": []
  },
  {
   "cell_type": "code",
   "execution_count": 22,
   "id": "f53a688e59e946ab",
   "metadata": {
    "ExecuteTime": {
     "end_time": "2024-11-23T09:12:56.835720Z",
     "start_time": "2024-11-23T09:12:56.833527Z"
    }
   },
   "outputs": [],
   "source": []
  },
  {
   "cell_type": "code",
   "execution_count": 22,
   "id": "ab3c4c9be99901bb",
   "metadata": {
    "ExecuteTime": {
     "end_time": "2024-11-23T09:12:56.954390Z",
     "start_time": "2024-11-23T09:12:56.953013Z"
    }
   },
   "outputs": [],
   "source": []
  },
  {
   "cell_type": "code",
   "execution_count": 22,
   "id": "fbfc6e91aaaedbc",
   "metadata": {
    "ExecuteTime": {
     "end_time": "2024-11-23T09:12:57.054016Z",
     "start_time": "2024-11-23T09:12:57.052590Z"
    }
   },
   "outputs": [],
   "source": []
  },
  {
   "cell_type": "code",
   "execution_count": null,
   "id": "f236ef6e261c5b71",
   "metadata": {},
   "outputs": [],
   "source": []
  }
 ],
 "metadata": {
  "kernelspec": {
   "display_name": "Python 3",
   "language": "python",
   "name": "python3"
  },
  "language_info": {
   "codemirror_mode": {
    "name": "ipython",
    "version": 2
   },
   "file_extension": ".py",
   "mimetype": "text/x-python",
   "name": "python",
   "nbconvert_exporter": "python",
   "pygments_lexer": "ipython2",
   "version": "2.7.6"
  }
 },
 "nbformat": 4,
 "nbformat_minor": 5
}
